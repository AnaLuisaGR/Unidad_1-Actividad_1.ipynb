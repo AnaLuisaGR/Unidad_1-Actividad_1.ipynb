{
  "nbformat": 4,
  "nbformat_minor": 0,
  "metadata": {
    "colab": {
      "provenance": [],
      "authorship_tag": "ABX9TyOHHdtqBgHkbCFgmkqnR9Tj",
      "include_colab_link": true
    },
    "kernelspec": {
      "name": "python3",
      "display_name": "Python 3"
    },
    "language_info": {
      "name": "python"
    }
  },
  "cells": [
    {
      "cell_type": "markdown",
      "metadata": {
        "id": "view-in-github",
        "colab_type": "text"
      },
      "source": [
        "<a href=\"https://colab.research.google.com/github/AnaLuisaGR/Unidad_1-Actividad_1.ipynb/blob/main/ejemplos_resueltos.ipynb\" target=\"_parent\"><img src=\"https://colab.research.google.com/assets/colab-badge.svg\" alt=\"Open In Colab\"/></a>"
      ]
    },
    {
      "cell_type": "code",
      "execution_count": 4,
      "metadata": {
        "colab": {
          "base_uri": "https://localhost:8080/"
        },
        "id": "XjS01OPNCAiW",
        "outputId": "6eb7bd9c-4e69-4de8-93a1-abea3e178944"
      },
      "outputs": [
        {
          "output_type": "stream",
          "name": "stdout",
          "text": [
            "precio total del cuarto: 1740.0, cada huesped pagará: 580.0 pesos\n"
          ]
        }
      ],
      "source": [
        "precio_de_cuarto = 1500\n",
        "numero_huespedes = 3\n",
        "porcentaje_impuesto = 16\n",
        "\n",
        "impuesto = precio_de_cuarto * porcentaje_impuesto / 100\n",
        "total = precio_de_cuarto + impuesto\n",
        "precio_por_huesped = total / numero_huespedes\n",
        "\n",
        "print(f\"precio total del cuarto: {total}, cada huesped pagará: {precio_por_huesped} pesos\")\n"
      ]
    }
  ]
}