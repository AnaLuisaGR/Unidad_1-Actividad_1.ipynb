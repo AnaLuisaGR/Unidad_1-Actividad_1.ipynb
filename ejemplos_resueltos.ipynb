{
  "nbformat": 4,
  "nbformat_minor": 0,
  "metadata": {
    "colab": {
      "provenance": [],
      "authorship_tag": "ABX9TyPrbSuk4U+vqyrOxCqBe9Ps",
      "include_colab_link": true
    },
    "kernelspec": {
      "name": "python3",
      "display_name": "Python 3"
    },
    "language_info": {
      "name": "python"
    }
  },
  "cells": [
    {
      "cell_type": "markdown",
      "metadata": {
        "id": "view-in-github",
        "colab_type": "text"
      },
      "source": [
        "<a href=\"https://colab.research.google.com/github/AnaLuisaGR/Unidad_1-Actividad_1.ipynb/blob/main/ejemplos_resueltos.ipynb\" target=\"_parent\"><img src=\"https://colab.research.google.com/assets/colab-badge.svg\" alt=\"Open In Colab\"/></a>"
      ]
    },
    {
      "cell_type": "code",
      "execution_count": 4,
      "metadata": {
        "colab": {
          "base_uri": "https://localhost:8080/"
        },
        "id": "XjS01OPNCAiW",
        "outputId": "6eb7bd9c-4e69-4de8-93a1-abea3e178944"
      },
      "outputs": [
        {
          "output_type": "stream",
          "name": "stdout",
          "text": [
            "precio total del cuarto: 1740.0, cada huesped pagará: 580.0 pesos\n"
          ]
        }
      ],
      "source": [
        "precio_de_cuarto = 1500\n",
        "numero_huespedes = 3\n",
        "porcentaje_impuesto = 16\n",
        "\n",
        "impuesto = precio_de_cuarto * porcentaje_impuesto / 100\n",
        "total = precio_de_cuarto + impuesto\n",
        "precio_por_huesped = total / numero_huespedes\n",
        "\n",
        "print(f\"precio total del cuarto: {total}, cada huesped pagará: {precio_por_huesped} pesos\")\n"
      ]
    },
    {
      "cell_type": "code",
      "source": [
        "def t_convert(t):\n",
        "  resultado = (t * 9/5) + 32\n",
        "  return resultado\n",
        "\n",
        "print(t_convert(25))\n",
        "print(t_convert(36))\n",
        "\n",
        "\n"
      ],
      "metadata": {
        "colab": {
          "base_uri": "https://localhost:8080/"
        },
        "id": "-3yyyJNJMSX_",
        "outputId": "98a2d291-0dd9-49ce-ee2e-ef9dd2b71350"
      },
      "execution_count": 14,
      "outputs": [
        {
          "output_type": "stream",
          "name": "stdout",
          "text": [
            "77.0\n",
            "96.8\n"
          ]
        }
      ]
    },
    {
      "cell_type": "code",
      "source": [
        "def imprime_separador():"
      ],
      "metadata": {
        "id": "IgDmFpiPPWoV"
      },
      "execution_count": null,
      "outputs": []
    },
    {
      "cell_type": "code",
      "source": [
        "def t_convert(t):\n",
        "  resultado = (t * 9/5) + 32\n",
        "  return resultado\n",
        "\n",
        "print(t_convert(float(input(\"Escribe T en Celsius: \"))))\n",
        "# se aprieta enter en la cajita, ej 44 enter, para volver a abrir la cajita se aprieta el triangulito de arriba\n",
        "\n"
      ],
      "metadata": {
        "colab": {
          "base_uri": "https://localhost:8080/"
        },
        "outputId": "6044e33b-60a2-469d-b6fa-b63675ebd764",
        "id": "zAYTkW8SPYQW"
      },
      "execution_count": 20,
      "outputs": [
        {
          "output_type": "stream",
          "name": "stdout",
          "text": [
            "Escribe T en Celsius: 44\n",
            "111.2\n"
          ]
        }
      ]
    },
    {
      "cell_type": "code",
      "source": [
        "print((6*3 >= 18) and (9+9 <= 36/2))\n"
      ],
      "metadata": {
        "colab": {
          "base_uri": "https://localhost:8080/"
        },
        "id": "vU0xwbMwY5DC",
        "outputId": "fd681293-bf5a-44fc-9d27-ef16b75b804e"
      },
      "execution_count": 21,
      "outputs": [
        {
          "output_type": "stream",
          "name": "stdout",
          "text": [
            "True\n"
          ]
        }
      ]
    },
    {
      "cell_type": "code",
      "source": [
        "print(\"Nairobi\" < \"Milan\" and \"Nairobi\" > \"Hanoi\")\n"
      ],
      "metadata": {
        "colab": {
          "base_uri": "https://localhost:8080/"
        },
        "id": "zWzglYSgZSbw",
        "outputId": "cf7b6307-7878-4212-a352-af7d30e85aef"
      },
      "execution_count": 23,
      "outputs": [
        {
          "output_type": "stream",
          "name": "stdout",
          "text": [
            "False\n"
          ]
        }
      ]
    },
    {
      "cell_type": "code",
      "source": [
        "contador =0\n",
        "while contador < 10:\n",
        "  print(contador)\n",
        "  contador += 1\n",
        ""
      ],
      "metadata": {
        "colab": {
          "base_uri": "https://localhost:8080/"
        },
        "id": "6Y_gbYxecwKZ",
        "outputId": "5128ef0d-0398-4f35-9bec-02522acee5ee"
      },
      "execution_count": 24,
      "outputs": [
        {
          "output_type": "stream",
          "name": "stdout",
          "text": [
            "0\n",
            "1\n",
            "2\n",
            "3\n",
            "4\n",
            "5\n",
            "6\n",
            "7\n",
            "8\n",
            "9\n"
          ]
        }
      ]
    },
    {
      "cell_type": "code",
      "source": [
        "resultado = 100\n",
        "while resultado > 3:\n",
        "  print(resultado)\n",
        "  resultado = resultado / 2\n",
        "\n"
      ],
      "metadata": {
        "colab": {
          "base_uri": "https://localhost:8080/"
        },
        "id": "0xX5zvaudH8C",
        "outputId": "11b85c9b-4926-4666-d30f-68513e8b1b24"
      },
      "execution_count": 26,
      "outputs": [
        {
          "output_type": "stream",
          "name": "stdout",
          "text": [
            "100\n",
            "50.0\n",
            "25.0\n",
            "12.5\n",
            "6.25\n",
            "3.125\n"
          ]
        }
      ]
    }
  ]
}