{
  "nbformat": 4,
  "nbformat_minor": 0,
  "metadata": {
    "colab": {
      "provenance": [],
      "authorship_tag": "ABX9TyPhurhGlw1XHT4q85ucKlSJ",
      "include_colab_link": true
    },
    "kernelspec": {
      "name": "python3",
      "display_name": "Python 3"
    },
    "language_info": {
      "name": "python"
    }
  },
  "cells": [
    {
      "cell_type": "markdown",
      "metadata": {
        "id": "view-in-github",
        "colab_type": "text"
      },
      "source": [
        "<a href=\"https://colab.research.google.com/github/AnaLuisaGR/Unidad_1-Actividad_1.ipynb/blob/main/ejemplos_resueltos.ipynb\" target=\"_parent\"><img src=\"https://colab.research.google.com/assets/colab-badge.svg\" alt=\"Open In Colab\"/></a>"
      ]
    },
    {
      "cell_type": "code",
      "execution_count": 4,
      "metadata": {
        "colab": {
          "base_uri": "https://localhost:8080/"
        },
        "id": "XjS01OPNCAiW",
        "outputId": "6eb7bd9c-4e69-4de8-93a1-abea3e178944"
      },
      "outputs": [
        {
          "output_type": "stream",
          "name": "stdout",
          "text": [
            "precio total del cuarto: 1740.0, cada huesped pagará: 580.0 pesos\n"
          ]
        }
      ],
      "source": [
        "precio_de_cuarto = 1500\n",
        "numero_huespedes = 3\n",
        "porcentaje_impuesto = 16\n",
        "\n",
        "impuesto = precio_de_cuarto * porcentaje_impuesto / 100\n",
        "total = precio_de_cuarto + impuesto\n",
        "precio_por_huesped = total / numero_huespedes\n",
        "\n",
        "print(f\"precio total del cuarto: {total}, cada huesped pagará: {precio_por_huesped} pesos\")\n"
      ]
    },
    {
      "cell_type": "code",
      "source": [
        "def t_convert(t):\n",
        "  resultado = (t * 9/5) + 32\n",
        "  return resultado\n",
        "\n",
        "print(t_convert(25))\n",
        "print(t_convert(36))\n",
        "\n",
        "\n"
      ],
      "metadata": {
        "colab": {
          "base_uri": "https://localhost:8080/"
        },
        "id": "-3yyyJNJMSX_",
        "outputId": "98a2d291-0dd9-49ce-ee2e-ef9dd2b71350"
      },
      "execution_count": 14,
      "outputs": [
        {
          "output_type": "stream",
          "name": "stdout",
          "text": [
            "77.0\n",
            "96.8\n"
          ]
        }
      ]
    },
    {
      "cell_type": "code",
      "source": [
        "def imprime_separador():"
      ],
      "metadata": {
        "id": "IgDmFpiPPWoV"
      },
      "execution_count": null,
      "outputs": []
    },
    {
      "cell_type": "code",
      "source": [
        "def t_convert(t):\n",
        "  resultado = (t * 9/5) + 32\n",
        "  return resultado\n",
        "\n",
        "print(t_convert(float(input(\"Escribe T en Celsius: \"))))\n",
        "# se aprieta enter en la cajita, ej 44 enter, para volver a abrir la cajita se aprieta el triangulito de arriba\n",
        "\n"
      ],
      "metadata": {
        "colab": {
          "base_uri": "https://localhost:8080/"
        },
        "outputId": "6044e33b-60a2-469d-b6fa-b63675ebd764",
        "id": "zAYTkW8SPYQW"
      },
      "execution_count": 20,
      "outputs": [
        {
          "output_type": "stream",
          "name": "stdout",
          "text": [
            "Escribe T en Celsius: 44\n",
            "111.2\n"
          ]
        }
      ]
    }
  ]
}