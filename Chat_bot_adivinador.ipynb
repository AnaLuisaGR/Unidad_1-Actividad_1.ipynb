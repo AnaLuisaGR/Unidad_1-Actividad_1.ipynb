{
  "nbformat": 4,
  "nbformat_minor": 0,
  "metadata": {
    "colab": {
      "provenance": [],
      "authorship_tag": "ABX9TyOe3lFWlUwtXn3xmwUyYAZw",
      "include_colab_link": true
    },
    "kernelspec": {
      "name": "python3",
      "display_name": "Python 3"
    },
    "language_info": {
      "name": "python"
    }
  },
  "cells": [
    {
      "cell_type": "markdown",
      "metadata": {
        "id": "view-in-github",
        "colab_type": "text"
      },
      "source": [
        "<a href=\"https://colab.research.google.com/github/AnaLuisaGR/Unidad_1-Actividad_1.ipynb/blob/main/Chat_bot_adivinador.ipynb\" target=\"_parent\"><img src=\"https://colab.research.google.com/assets/colab-badge.svg\" alt=\"Open In Colab\"/></a>"
      ]
    },
    {
      "cell_type": "code",
      "execution_count": 1,
      "metadata": {
        "colab": {
          "base_uri": "https://localhost:8080/"
        },
        "id": "KSW_3d8EnegG",
        "outputId": "3088ea9d-51f9-46b0-cea4-2a7fcf3a7807"
      },
      "outputs": [
        {
          "output_type": "stream",
          "name": "stdout",
          "text": [
            "¡Hola¡ Soy un chat bot.\n",
            "Me crearon en 2025 como parte de una tarea\n",
            "¿Y tu nombre cuál es?\n",
            "Ana\n",
            "¡Me encanta tu nombre¡, Ana¡\n"
          ]
        }
      ],
      "source": [
        "print ('¡Hola¡ Soy un chat bot.')\n",
        "print ('Me crearon en 2025 como parte de una tarea')\n",
        "print ('¿Y tu nombre cuál es?')\n",
        "nombre_usuario = str(input())\n",
        "print('¡Me encanta tu nombre¡, ' + nombre_usuario + \"¡\")\n"
      ]
    }
  ]
}