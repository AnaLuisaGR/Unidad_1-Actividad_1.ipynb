{
  "nbformat": 4,
  "nbformat_minor": 0,
  "metadata": {
    "colab": {
      "provenance": [],
      "authorship_tag": "ABX9TyPh3g7GwGp6iBZOSBpqUzBC",
      "include_colab_link": true
    },
    "kernelspec": {
      "name": "python3",
      "display_name": "Python 3"
    },
    "language_info": {
      "name": "python"
    }
  },
  "cells": [
    {
      "cell_type": "markdown",
      "metadata": {
        "id": "view-in-github",
        "colab_type": "text"
      },
      "source": [
        "<a href=\"https://colab.research.google.com/github/AnaLuisaGR/Unidad_1-Actividad_1.ipynb/blob/main/Copia_de_Activudad_2_Lu.ipynb\" target=\"_parent\"><img src=\"https://colab.research.google.com/assets/colab-badge.svg\" alt=\"Open In Colab\"/></a>"
      ]
    },
    {
      "cell_type": "code",
      "execution_count": null,
      "metadata": {
        "colab": {
          "base_uri": "https://localhost:8080/"
        },
        "id": "j5qjcF_0SwdJ",
        "outputId": "14273ab1-bf51-49f4-eeb7-5b81a50e4305"
      },
      "outputs": [
        {
          "output_type": "stream",
          "name": "stdout",
          "text": [
            "Mounted at /content/drive\n"
          ]
        }
      ],
      "source": [
        "from google.colab import drive\n",
        "drive.mount('/content/drive')\n"
      ]
    },
    {
      "cell_type": "markdown",
      "source": [
        "# Curso: Análisis y visualización de datos con Python en la nube\n",
        "**Actividad 2. Uso de Google Drive en combinación con Google Colab**\n",
        "*Ana Luisa González Reyes*\n",
        "Fecha: 22 de septiembre de 2025\n"
      ],
      "metadata": {
        "id": "RqqkJSYEVTMI"
      }
    },
    {
      "cell_type": "code",
      "source": [
        "import datetime\n",
        "# hora (Tiempo universal coordinado, UTC) y fecha\n",
        "now =datetime.datetime.now()\n",
        "print(f\"Fecha y hora (UTC): {now.strftime('%Y-%m_%d %H:%M')}\")\n",
        "\n"
      ],
      "metadata": {
        "colab": {
          "base_uri": "https://localhost:8080/"
        },
        "id": "HmxeOb4YWUdy",
        "outputId": "f600ebe2-2e57-4dbf-d70b-aedd4d2ce99c"
      },
      "execution_count": 1,
      "outputs": [
        {
          "output_type": "stream",
          "name": "stdout",
          "text": [
            "Fecha y hora (UTC): 2025-09_23 03:13\n"
          ]
        }
      ]
    },
    {
      "cell_type": "code",
      "source": [
        "path = '/content/drive/MyDrive/Colab data/'\n",
        "file = 'palabras.txt'\n",
        "\n",
        "with open(path + file, 'r') as f:\n",
        "  d = f.read()\n",
        "  print(d)\n",
        "\n"
      ],
      "metadata": {
        "colab": {
          "base_uri": "https://localhost:8080/"
        },
        "id": "gcCJYc4RTah7",
        "outputId": "79bdb4ef-1f56-43ad-8158-ed2e5dba6b81"
      },
      "execution_count": null,
      "outputs": [
        {
          "output_type": "stream",
          "name": "stdout",
          "text": [
            "Alta traición\n",
            "No amo mi patria. Su fulgor abstracto es inasible. ero (aunque suene mal) daría la vida por diez lugares suyos, cierta gente, puertos, bosques de pinos, fortalezas, una ciudad desecha, gri, monstruosa, varias figuras de su historia, montañas y tres o cuatro ríos. \n"
          ]
        }
      ]
    }
  ]
}