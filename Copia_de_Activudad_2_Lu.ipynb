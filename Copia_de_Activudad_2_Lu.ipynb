{
  "nbformat": 4,
  "nbformat_minor": 0,
  "metadata": {
    "colab": {
      "provenance": [],
      "authorship_tag": "ABX9TyM6YfkBE6/7Qv9E2xFeSglu",
      "include_colab_link": true
    },
    "kernelspec": {
      "name": "python3",
      "display_name": "Python 3"
    },
    "language_info": {
      "name": "python"
    }
  },
  "cells": [
    {
      "cell_type": "markdown",
      "metadata": {
        "id": "view-in-github",
        "colab_type": "text"
      },
      "source": [
        "<a href=\"https://colab.research.google.com/github/AnaLuisaGR/Unidad_1-Actividad_1.ipynb/blob/main/Copia_de_Activudad_2_Lu.ipynb\" target=\"_parent\"><img src=\"https://colab.research.google.com/assets/colab-badge.svg\" alt=\"Open In Colab\"/></a>"
      ]
    },
    {
      "cell_type": "code",
      "execution_count": null,
      "metadata": {
        "colab": {
          "base_uri": "https://localhost:8080/"
        },
        "id": "j5qjcF_0SwdJ",
        "outputId": "14273ab1-bf51-49f4-eeb7-5b81a50e4305"
      },
      "outputs": [
        {
          "output_type": "stream",
          "name": "stdout",
          "text": [
            "Mounted at /content/drive\n"
          ]
        }
      ],
      "source": [
        "from google.colab import drive\n",
        "drive.mount('/content/drive')\n"
      ]
    },
    {
      "cell_type": "code",
      "source": [
        "path = '/content/drive/MyDrive/Colab data/'\n",
        "file = 'palabras.txt'\n",
        "\n",
        "with open(path + file, 'r') as f:\n",
        "  d = f.read()\n",
        "  print(d)\n",
        "\n"
      ],
      "metadata": {
        "colab": {
          "base_uri": "https://localhost:8080/"
        },
        "id": "gcCJYc4RTah7",
        "outputId": "79bdb4ef-1f56-43ad-8158-ed2e5dba6b81"
      },
      "execution_count": null,
      "outputs": [
        {
          "output_type": "stream",
          "name": "stdout",
          "text": [
            "Alta traición\n",
            "No amo mi patria. Su fulgor abstracto es inasible. ero (aunque suene mal) daría la vida por diez lugares suyos, cierta gente, puertos, bosques de pinos, fortalezas, una ciudad desecha, gri, monstruosa, varias figuras de su historia, montañas y tres o cuatro ríos. \n"
          ]
        }
      ]
    }
  ]
}