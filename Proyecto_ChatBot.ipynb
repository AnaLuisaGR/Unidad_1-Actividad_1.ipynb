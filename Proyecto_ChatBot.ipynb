{
  "nbformat": 4,
  "nbformat_minor": 0,
  "metadata": {
    "colab": {
      "provenance": [],
      "authorship_tag": "ABX9TyOsqu4Ay5xTZQ9balMZgC8g",
      "include_colab_link": true
    },
    "kernelspec": {
      "name": "python3",
      "display_name": "Python 3"
    },
    "language_info": {
      "name": "python"
    }
  },
  "cells": [
    {
      "cell_type": "markdown",
      "metadata": {
        "id": "view-in-github",
        "colab_type": "text"
      },
      "source": [
        "<a href=\"https://colab.research.google.com/github/AnaLuisaGR/Unidad_1-Actividad_1.ipynb/blob/main/Proyecto_ChatBot.ipynb\" target=\"_parent\"><img src=\"https://colab.research.google.com/assets/colab-badge.svg\" alt=\"Open In Colab\"/></a>"
      ]
    },
    {
      "cell_type": "markdown",
      "source": [
        "# Proyecto 1. Chat Bot simple\n",
        "**Análisis y visualización de datos con Python en la nube**\n",
        "*12 de octubre de 2025*\n",
        "\"Ana Luisa González Reyes\"\n",
        "Centro Universitario de Ciencias Sociales y Humanidades"
      ],
      "metadata": {
        "id": "4Nl7757AiFya"
      }
    },
    {
      "cell_type": "code",
      "source": [
        "print('¡Hola! Soy un ChatBot.')\n",
        "print('Me crearon en 2025 como parte de un ejercicio.')\n",
        "print('¿Y tu nombre cual es?')\n",
        "nombre_usuario = str(input())\n",
        "print('¡Me encanta tu nombre, ' + nombre_usuario + \"!\")\n",
        "\n"
      ],
      "metadata": {
        "colab": {
          "base_uri": "https://localhost:8080/"
        },
        "id": "HCACCSuJjKj3",
        "outputId": "9c191202-cac1-4b82-fc47-f74093f6af3e"
      },
      "execution_count": 2,
      "outputs": [
        {
          "output_type": "stream",
          "name": "stdout",
          "text": [
            "¡Hola! Soy un ChatBot.\n",
            "Me crearon en 2025 como parte de un ejercicio.\n",
            "¿Y tu nombre cual es?\n",
            "Ana\n",
            "¡Me encanta tu nombre, Ana!\n"
          ]
        }
      ]
    },
    {
      "cell_type": "code",
      "source": [
        "def adivinar_edad():\n",
        "    print('Imagina un personaje humano. Debes conocer su edad. Me gustaría adivinar la edad de este personaje ficticio, ' + nombre_usuario + '.')\n",
        "    print('Para ello, te voy a hacer tres preguntas:')\n",
        "\n",
        "    rem3 = int(input('¿Cuál es el residuo de la división de su edad entre 3?\\n'))\n",
        "    rem5 = int(input('¿Cuál es el residuo de la división de su edad entre 5?\\n'))\n",
        "    rem7 = int(input('¿Cuál es el residuo de la división de su edad entre 7?\\n'))\n",
        "    age = (rem3 * 70 + rem5 * 21 + rem7 * 15) % 105\n",
        "\n",
        "    print(\"Creo que su edad es \" + str(age) + \" años. ¡Espero no haberme equivocado!\")\n",
        "\n",
        "adivinar_edad()"
      ],
      "metadata": {
        "colab": {
          "base_uri": "https://localhost:8080/"
        },
        "id": "_m80gx_olqsc",
        "outputId": "a694bed8-f0a3-46de-c111-b7949405e7b3"
      },
      "execution_count": 6,
      "outputs": [
        {
          "output_type": "stream",
          "name": "stdout",
          "text": [
            "Imagina un personaje humano. Debes conocer su edad. Me gustaría adivinar la edad de este personaje ficticio, Ana.\n",
            "Para ello, te voy a hacer tres preguntas:\n",
            "¿Cuál es el residuo de la división de su edad entre 3?\n",
            "1\n",
            "¿Cuál es el residuo de la división de su edad entre 5?\n",
            "3\n",
            "¿Cuál es el residuo de la división de su edad entre 7?\n",
            "2\n",
            "Creo que su edad es 58 años. ¡Espero no haberme equivocado!\n"
          ]
        }
      ]
    }
  ]
}