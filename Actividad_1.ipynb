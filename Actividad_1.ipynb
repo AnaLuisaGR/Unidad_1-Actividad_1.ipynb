{
  "nbformat": 4,
  "nbformat_minor": 0,
  "metadata": {
    "colab": {
      "provenance": [],
      "authorship_tag": "ABX9TyORIBR6WFaAb3UEKVhmdFAn",
      "include_colab_link": true
    },
    "kernelspec": {
      "name": "python3",
      "display_name": "Python 3"
    },
    "language_info": {
      "name": "python"
    }
  },
  "cells": [
    {
      "cell_type": "markdown",
      "metadata": {
        "id": "view-in-github",
        "colab_type": "text"
      },
      "source": [
        "<a href=\"https://colab.research.google.com/github/AnaLuisaGR/Unidad_1-Actividad_1.ipynb/blob/main/Actividad_1.ipynb\" target=\"_parent\"><img src=\"https://colab.research.google.com/assets/colab-badge.svg\" alt=\"Open In Colab\"/></a>"
      ]
    },
    {
      "cell_type": "code",
      "execution_count": 4,
      "metadata": {
        "colab": {
          "base_uri": "https://localhost:8080/"
        },
        "id": "wZXnEih_vsXY",
        "outputId": "5055b326-5fd7-4667-ab82-3558f8ed5b2f"
      },
      "outputs": [
        {
          "output_type": "stream",
          "name": "stdout",
          "text": [
            "Fecha y hora (UTC): 2025-09_17 00:10\n"
          ]
        }
      ],
      "source": [
        "import datetime\n",
        "\n",
        "# Hora (Tiempo universal coordinado, UTC) y fecha\n",
        "now = datetime.datetime.now()\n",
        "print (f\"Fecha y hora (UTC): {now.strftime ('%Y-%m_%d %H:%M')}\")\n"
      ]
    },
    {
      "cell_type": "code",
      "source": [
        "import sys\n",
        "import platform\n",
        "\n",
        "#Versión de Python\n",
        "print(f\"Versión de Python: {sys.version}\")\n",
        "\n",
        "#Parámetros del entorno de ejecisión (ejemplos con algunas variables del entorno)\n",
        "print(\"\\nParámetros del entorno de ejecución:\")\n",
        "print(f\"Sistema operativo: {platform.system()}\")\n",
        "print(f\"Nombre del nodo:{platform.node()}\")\n",
        "print(f\"Arquitectura: {platform.architecture()}\")\n",
        "print(f\"Procesador: {platform.processor()}\")\n",
        "\n"
      ],
      "metadata": {
        "colab": {
          "base_uri": "https://localhost:8080/"
        },
        "id": "tZfErN4x0TUV",
        "outputId": "472a31d1-ad7f-4077-ed91-87b71b223771"
      },
      "execution_count": 5,
      "outputs": [
        {
          "output_type": "stream",
          "name": "stdout",
          "text": [
            "Versión de Python: 3.12.11 (main, Jun  4 2025, 08:56:18) [GCC 11.4.0]\n",
            "\n",
            "Parámetros del entorno de ejecución:\n",
            "Sistema operativo: Linux\n",
            "Nombre del nodo:30b58c593ff7\n",
            "Arquitectura: ('64bit', 'ELF')\n",
            "Procesador: x86_64\n"
          ]
        }
      ]
    },
    {
      "cell_type": "markdown",
      "source": [
        "¿Cual es su opinión sobre el potencial de uso de Python en su trabajo académico o en la investigación?\n",
        "\n",
        "\n",
        "# Creo que tiene gran potencial porque creo que será util para representar datos de diferentes formas, no sé si haga estadísticas también, pero si lo hiciera sería doblemente útil.\n",
        "> Agregar bloque entrecomillado *texto en cursiva*\n",
        "\n",
        "\n",
        "\n",
        "\n"
      ],
      "metadata": {
        "id": "vFAyMyBJ33Wj"
      }
    },
    {
      "cell_type": "markdown",
      "source": [
        "# Actividad_1.ipynb\n",
        "\n",
        "\n",
        "Fecha: **16 de septiembre de 2025**\n",
        "Nombre del curso: *Análisis y visualización de datos con Python en la nube*\n",
        "Nombre del alumno: **Ana Luisa González Reyes**\n",
        "CUCSH, Departamento de Estudios en Educacación"
      ],
      "metadata": {
        "id": "uEAQEfgQDpaU"
      }
    }
  ]
}