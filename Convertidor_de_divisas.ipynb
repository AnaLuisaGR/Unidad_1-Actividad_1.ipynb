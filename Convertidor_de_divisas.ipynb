{
  "nbformat": 4,
  "nbformat_minor": 0,
  "metadata": {
    "colab": {
      "provenance": [],
      "authorship_tag": "ABX9TyPhX8W9lYy8DtVYVrfuwa7+",
      "include_colab_link": true
    },
    "kernelspec": {
      "name": "python3",
      "display_name": "Python 3"
    },
    "language_info": {
      "name": "python"
    }
  },
  "cells": [
    {
      "cell_type": "markdown",
      "metadata": {
        "id": "view-in-github",
        "colab_type": "text"
      },
      "source": [
        "<a href=\"https://colab.research.google.com/github/AnaLuisaGR/Unidad_1-Actividad_1.ipynb/blob/main/Convertidor_de_divisas.ipynb\" target=\"_parent\"><img src=\"https://colab.research.google.com/assets/colab-badge.svg\" alt=\"Open In Colab\"/></a>"
      ]
    },
    {
      "cell_type": "markdown",
      "source": [],
      "metadata": {
        "id": "DLXwjMNTbOlP"
      }
    },
    {
      "cell_type": "markdown",
      "source": [
        "Proyecto 2: *Convertidor de divisas*,\n",
        "18 de octubre de 2025,\n",
        "Análisis y visualización de datos con Python en la nube,\n",
        "**Ana Luisa González Reyes**,\n",
        "CUCSH, U de G."
      ],
      "metadata": {
        "id": "DXSu38WBs4EB"
      }
    },
    {
      "cell_type": "code",
      "source": [
        "import json\n",
        "import requests\n",
        "\n",
        "def currency_search(cur):\n",
        "    r = requests.get(\"http://www.floatrates.com/daily/{}.json\".format(cur))\n",
        "    return r.text"
      ],
      "metadata": {
        "id": "uCocv9SRu8AM"
      },
      "execution_count": 1,
      "outputs": []
    },
    {
      "cell_type": "code",
      "source": [
        "\n",
        "\n",
        "\n",
        "\n",
        "my_currency = str(input(\"Divisa inicial: \")).lower()\n",
        "\n",
        "currency_cache = dict()\n",
        "\n",
        "try:\n",
        "    exchange_file = currency_search(my_currency)\n",
        "    exchange_dist = json.loads(exchange_file)\n",
        "    #print(json.dumps(exchange_dist, indent=4))\n",
        "\n",
        "    currency_cache[my_currency] = 1 # se agrega la tasa de conversión 1\n",
        "    if my_currency != \"usd\":\n",
        "      currency_cache[\"usd\"] = exchange_dist[\"usd\"][\"rate\"]\n",
        "    if my_currency != \"eur\":\n",
        "      currency_cache[\"eur\"] = exchange_dist[\"eur\"][\"rate\"]\n",
        "    if my_currency != \"mxn\":\n",
        "      currency_cache[\"mxn\"] = exchange_dist[\"mxn\"][\"rate\"]\n",
        "except:\n",
        "    print(\"Divisa no encontrada\")\n",
        "    currency_cache = dict()\n",
        "\n",
        "print(\"Cache: \", currency_cache)\n"
      ],
      "metadata": {
        "colab": {
          "base_uri": "https://localhost:8080/"
        },
        "id": "huMpNxw80n3-",
        "outputId": "b2863bba-f9a2-4e59-9321-1d4308704188"
      },
      "execution_count": 18,
      "outputs": [
        {
          "output_type": "stream",
          "name": "stdout",
          "text": [
            "Divisa inicial: mxn\n",
            "Cache:  {'mxn': 1, 'usd': 0.054293323487168, 'eur': 0.046444929922601}\n"
          ]
        }
      ]
    },
    {
      "cell_type": "code",
      "source": [
        "\n",
        "print('Hola¡ Este es un convertidor de divisas.')\n",
        "print('Introduce el código de tres letras de la divisa inicial (por ejemplo, MXN),')\n",
        "print('y el código de divisa destino (por ejemplo, USD) y la cantidad que pretendes convertir.')\n",
        "print('El resultado será la cantidad en la divisa destino.')\n",
        "print('Si quieres salir de programa, solo pulsa la tecla Enter al momento de')\n",
        "print('especificar la divisa.')\n",
        "print('Suerte con tus conversiones!')\n",
        "\n",
        "\n",
        "\n",
        "while True:\n",
        "    target = str(input(\"Divisa destino: \"))\n",
        "    if target == \"\":\n",
        "        break\n",
        "    target = target.lower()\n",
        "    try:\n",
        "        amount = float(input(\"Cantidad de dinero por convertir: \"))\n",
        "    except:\n",
        "        print(\"Cantidad introducida no es valida\")\n",
        "        continue\n",
        "\n",
        "    print(\"Verificando cache...\")\n",
        "    if target in currency_cache.keys():\n",
        "        print(\"Divisa se encontro en la base de datos, podemos trabajar\")\n",
        "    else:\n",
        "        print(\"Divisa no esta en cache, intentamos agregar\")\n",
        "        try:\n",
        "            currency_cache[target] = exchange_dist[target][\"rate\"]\n",
        "        except:\n",
        "            print(\"Divisa no encontrada\")\n",
        "            continue\n",
        "\n",
        "    target_amount = currency_cache[target] * amount\n",
        "    print(\"Resultado de conversión: {} {}.\".format(round(target_amount, 2), target.upper()))\n",
        "\n",
        "print(\"Bye.\")\n"
      ],
      "metadata": {
        "colab": {
          "base_uri": "https://localhost:8080/"
        },
        "id": "Iw1WMpCI1Fka",
        "outputId": "c40d416a-ff66-4c13-f726-3735045707b9"
      },
      "execution_count": 26,
      "outputs": [
        {
          "output_type": "stream",
          "name": "stdout",
          "text": [
            "Hola¡ Este es un convertidor de divisas.\n",
            "Introduce el código de tres letras de la divisa inicial (por ejemplo, MXN),\n",
            "y el código de divisa destino (por ejemplo, USD) y la cantidad que pretendes convertir.\n",
            "El resultado será la cantidad en la divisa destino.\n",
            "Si quieres salir de programa, solo pulsa la tecla Enter al momento de\n",
            "especificar la divisa.\n",
            "Suerte con tus conversiones!\n",
            "Divisa destino: usd\n",
            "Cantidad de dinero por convertir: 1000\n",
            "Verificando cache...\n",
            "Divisa se encontro en la base de datos, podemos trabajar\n",
            "Resultado de conversión: 54.29 USD.\n",
            "Divisa destino: mxn\n",
            "Cantidad de dinero por convertir: \n",
            "Cantidad introducida no es valida\n",
            "Divisa destino: \n",
            "Bye.\n"
          ]
        }
      ]
    }
  ]
}